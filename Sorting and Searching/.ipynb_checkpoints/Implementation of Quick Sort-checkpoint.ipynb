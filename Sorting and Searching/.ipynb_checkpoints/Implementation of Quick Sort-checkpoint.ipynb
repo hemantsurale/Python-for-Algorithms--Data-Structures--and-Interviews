{
 "cells": [
  {
   "cell_type": "markdown",
   "metadata": {},
   "source": [
    "# Implementation of Quick Sort\n",
    "\n",
    "A quick sort first selects a value, which is called the pivot value. Although there are many different ways to choose the pivot value, we will simply use the first item in the list. The role of the pivot value is to assist with splitting the list. The actual position where the pivot value belongs in the final sorted list, commonly called the split point, will be used to divide the list for subsequent calls to the quick sort."
   ]
  },
  {
   "cell_type": "markdown",
   "metadata": {},
   "source": [
    "# Resources for Review\n",
    "\n",
    "Check out the resources below for a review of Insertion sort!\n",
    "\n",
    "* [Wikipedia](https://en.wikipedia.org/wiki/Quicksort)\n",
    "* [Visual Algo](http://visualgo.net/sorting.html)\n",
    "* [Sorting Algorithms Animcation with Pseudocode](http://www.sorting-algorithms.com/quick-sort)\n",
    "* [Jenny Video Tutorial](https://www.youtube.com/watch?time_continue=2&v=QN9hnmAgmOc) 8:00+"
   ]
  },
  {
   "cell_type": "code",
   "execution_count": 1,
   "metadata": {},
   "outputs": [],
   "source": [
    "def quick_sort(arr):\n",
    "    \n",
    "#     Pass the array, lower limit and the higher limit of the array\n",
    "    quick_sort_help(arr,0,len(arr)-1)\n",
    "\n",
    "def quick_sort_help(arr,first,last):\n",
    "    \n",
    "    if first<last:\n",
    "        \n",
    "        splitpoint = partition(arr,first,last)\n",
    "\n",
    "        quick_sort_help(arr,first,splitpoint-1)\n",
    "        quick_sort_help(arr,splitpoint+1,last)\n",
    "\n",
    "\n",
    "def partition(arr,first,last):\n",
    "    \n",
    "#   Just make the first item as a pivot\n",
    "    pivotvalue = arr[first]\n",
    "\n",
    "#   Tom runs forward as long as there are smaller items than the pivot\n",
    "#   And, Jerry runs back as long as there are larger items than the pivot\n",
    "#   Tom and Jerry do not cross each other, otherwise it is the end. Just swap the first item with Jerry\n",
    "#   And, return the jerry\n",
    "    tom = first+1\n",
    "    jerry = last\n",
    "\n",
    "    done = False\n",
    "    while not done:\n",
    "\n",
    "        while tom <= jerry and arr[tom] <= pivotvalue:\n",
    "            tom = tom + 1\n",
    "\n",
    "        while tom <= jerry and arr[jerry] >= pivotvalue:\n",
    "            jerry = jerry -1\n",
    "\n",
    "        if tom > jerry:\n",
    "            done = True\n",
    "        else:\n",
    "            temp = arr[tom]\n",
    "            arr[tom] = arr[jerry]\n",
    "            arr[jerry] = temp\n",
    "\n",
    "    temp = arr[first]\n",
    "    arr[first] = arr[jerry]\n",
    "    arr[jerry] = temp\n",
    "\n",
    "    return jerry"
   ]
  },
  {
   "cell_type": "code",
   "execution_count": 2,
   "metadata": {},
   "outputs": [
    {
     "data": {
      "text/plain": [
       "[1, 2, 3, 4, 4, 5, 6, 7, 11, 12]"
      ]
     },
     "execution_count": 2,
     "metadata": {},
     "output_type": "execute_result"
    }
   ],
   "source": [
    "arr = [2,5,4,6,7,3,1,4,12,11]\n",
    "quick_sort(arr)\n",
    "arr"
   ]
  }
 ],
 "metadata": {
  "kernelspec": {
   "display_name": "Python 3",
   "language": "python",
   "name": "python3"
  },
  "language_info": {
   "codemirror_mode": {
    "name": "ipython",
    "version": 3
   },
   "file_extension": ".py",
   "mimetype": "text/x-python",
   "name": "python",
   "nbconvert_exporter": "python",
   "pygments_lexer": "ipython3",
   "version": "3.7.2"
  },
  "toc": {
   "base_numbering": 1,
   "nav_menu": {},
   "number_sections": true,
   "sideBar": true,
   "skip_h1_title": false,
   "title_cell": "Table of Contents",
   "title_sidebar": "Contents",
   "toc_cell": false,
   "toc_position": {},
   "toc_section_display": true,
   "toc_window_display": false
  }
 },
 "nbformat": 4,
 "nbformat_minor": 1
}
